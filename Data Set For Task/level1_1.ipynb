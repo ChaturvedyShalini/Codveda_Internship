{
 "cells": [
  {
   "cell_type": "code",
   "execution_count": 2,
   "id": "44f9ae69",
   "metadata": {},
   "outputs": [],
   "source": [
    "import pandas as pd\n",
    "import seaborn as sns\n",
    "import matplotlib.pyplot as plt"
   ]
  },
  {
   "cell_type": "code",
   "execution_count": 3,
   "id": "a3c68766",
   "metadata": {},
   "outputs": [
    {
     "data": {
      "text/html": [
       "<div>\n",
       "<style scoped>\n",
       "    .dataframe tbody tr th:only-of-type {\n",
       "        vertical-align: middle;\n",
       "    }\n",
       "\n",
       "    .dataframe tbody tr th {\n",
       "        vertical-align: top;\n",
       "    }\n",
       "\n",
       "    .dataframe thead th {\n",
       "        text-align: right;\n",
       "    }\n",
       "</style>\n",
       "<table border=\"1\" class=\"dataframe\">\n",
       "  <thead>\n",
       "    <tr style=\"text-align: right;\">\n",
       "      <th></th>\n",
       "      <th>symbol</th>\n",
       "      <th>date</th>\n",
       "      <th>open</th>\n",
       "      <th>high</th>\n",
       "      <th>low</th>\n",
       "      <th>close</th>\n",
       "      <th>volume</th>\n",
       "    </tr>\n",
       "  </thead>\n",
       "  <tbody>\n",
       "    <tr>\n",
       "      <th>0</th>\n",
       "      <td>AAL</td>\n",
       "      <td>2014-01-02</td>\n",
       "      <td>25.0700</td>\n",
       "      <td>25.8200</td>\n",
       "      <td>25.0600</td>\n",
       "      <td>25.3600</td>\n",
       "      <td>8998943</td>\n",
       "    </tr>\n",
       "    <tr>\n",
       "      <th>1</th>\n",
       "      <td>AAPL</td>\n",
       "      <td>2014-01-02</td>\n",
       "      <td>79.3828</td>\n",
       "      <td>79.5756</td>\n",
       "      <td>78.8601</td>\n",
       "      <td>79.0185</td>\n",
       "      <td>58791957</td>\n",
       "    </tr>\n",
       "    <tr>\n",
       "      <th>2</th>\n",
       "      <td>AAP</td>\n",
       "      <td>2014-01-02</td>\n",
       "      <td>110.3600</td>\n",
       "      <td>111.8800</td>\n",
       "      <td>109.2900</td>\n",
       "      <td>109.7400</td>\n",
       "      <td>542711</td>\n",
       "    </tr>\n",
       "    <tr>\n",
       "      <th>3</th>\n",
       "      <td>ABBV</td>\n",
       "      <td>2014-01-02</td>\n",
       "      <td>52.1200</td>\n",
       "      <td>52.3300</td>\n",
       "      <td>51.5200</td>\n",
       "      <td>51.9800</td>\n",
       "      <td>4569061</td>\n",
       "    </tr>\n",
       "    <tr>\n",
       "      <th>4</th>\n",
       "      <td>ABC</td>\n",
       "      <td>2014-01-02</td>\n",
       "      <td>70.1100</td>\n",
       "      <td>70.2300</td>\n",
       "      <td>69.4800</td>\n",
       "      <td>69.8900</td>\n",
       "      <td>1148391</td>\n",
       "    </tr>\n",
       "    <tr>\n",
       "      <th>5</th>\n",
       "      <td>ABT</td>\n",
       "      <td>2014-01-02</td>\n",
       "      <td>38.0900</td>\n",
       "      <td>38.4000</td>\n",
       "      <td>38.0000</td>\n",
       "      <td>38.2300</td>\n",
       "      <td>4967472</td>\n",
       "    </tr>\n",
       "    <tr>\n",
       "      <th>6</th>\n",
       "      <td>ACN</td>\n",
       "      <td>2014-01-02</td>\n",
       "      <td>81.5000</td>\n",
       "      <td>81.9200</td>\n",
       "      <td>81.0900</td>\n",
       "      <td>81.1300</td>\n",
       "      <td>2405384</td>\n",
       "    </tr>\n",
       "    <tr>\n",
       "      <th>7</th>\n",
       "      <td>ADBE</td>\n",
       "      <td>2014-01-02</td>\n",
       "      <td>59.0600</td>\n",
       "      <td>59.5300</td>\n",
       "      <td>58.9400</td>\n",
       "      <td>59.2900</td>\n",
       "      <td>2746370</td>\n",
       "    </tr>\n",
       "    <tr>\n",
       "      <th>8</th>\n",
       "      <td>ADI</td>\n",
       "      <td>2014-01-02</td>\n",
       "      <td>49.5200</td>\n",
       "      <td>49.7500</td>\n",
       "      <td>49.0400</td>\n",
       "      <td>49.2800</td>\n",
       "      <td>2799092</td>\n",
       "    </tr>\n",
       "    <tr>\n",
       "      <th>9</th>\n",
       "      <td>ADM</td>\n",
       "      <td>2014-01-02</td>\n",
       "      <td>43.2200</td>\n",
       "      <td>43.2900</td>\n",
       "      <td>42.7900</td>\n",
       "      <td>42.9900</td>\n",
       "      <td>2753765</td>\n",
       "    </tr>\n",
       "  </tbody>\n",
       "</table>\n",
       "</div>"
      ],
      "text/plain": [
       "  symbol        date      open      high       low     close    volume\n",
       "0    AAL  2014-01-02   25.0700   25.8200   25.0600   25.3600   8998943\n",
       "1   AAPL  2014-01-02   79.3828   79.5756   78.8601   79.0185  58791957\n",
       "2    AAP  2014-01-02  110.3600  111.8800  109.2900  109.7400    542711\n",
       "3   ABBV  2014-01-02   52.1200   52.3300   51.5200   51.9800   4569061\n",
       "4    ABC  2014-01-02   70.1100   70.2300   69.4800   69.8900   1148391\n",
       "5    ABT  2014-01-02   38.0900   38.4000   38.0000   38.2300   4967472\n",
       "6    ACN  2014-01-02   81.5000   81.9200   81.0900   81.1300   2405384\n",
       "7   ADBE  2014-01-02   59.0600   59.5300   58.9400   59.2900   2746370\n",
       "8    ADI  2014-01-02   49.5200   49.7500   49.0400   49.2800   2799092\n",
       "9    ADM  2014-01-02   43.2200   43.2900   42.7900   42.9900   2753765"
      ]
     },
     "execution_count": 3,
     "metadata": {},
     "output_type": "execute_result"
    }
   ],
   "source": [
    "data = pd.read_csv(\"2) Stock Prices Data Set.csv\") \n",
    "data.head(10)"
   ]
  },
  {
   "cell_type": "code",
   "execution_count": 4,
   "id": "9ca7ac0e",
   "metadata": {},
   "outputs": [
    {
     "data": {
      "text/plain": [
       "(497472, 7)"
      ]
     },
     "execution_count": 4,
     "metadata": {},
     "output_type": "execute_result"
    }
   ],
   "source": [
    "data.shape"
   ]
  },
  {
   "cell_type": "code",
   "execution_count": 5,
   "id": "d6911483",
   "metadata": {},
   "outputs": [
    {
     "data": {
      "text/plain": [
       "symbol     0\n",
       "date       0\n",
       "open      11\n",
       "high       8\n",
       "low        8\n",
       "close      0\n",
       "volume     0\n",
       "dtype: int64"
      ]
     },
     "execution_count": 5,
     "metadata": {},
     "output_type": "execute_result"
    }
   ],
   "source": [
    "data.isnull().sum()"
   ]
  },
  {
   "cell_type": "code",
   "execution_count": 6,
   "id": "a8db95a6",
   "metadata": {},
   "outputs": [
    {
     "data": {
      "image/png": "[encoded data removed]",
      "text/plain": [
       "<Figure size 640x480 with 2 Axes>"
      ]
     },
     "metadata": {},
     "output_type": "display_data"
    }
   ],
   "source": [
    "sns.heatmap(data.isnull())\n",
    "plt.show()\n"
   ]
  },
  {
   "cell_type": "code",
   "execution_count": 7,
   "id": "c01a2154",
   "metadata": {},
   "outputs": [
    {
     "data": {
      "text/html": [
       "<div>\n",
       "<style scoped>\n",
       "    .dataframe tbody tr th:only-of-type {\n",
       "        vertical-align: middle;\n",
       "    }\n",
       "\n",
       "    .dataframe tbody tr th {\n",
       "        vertical-align: top;\n",
       "    }\n",
       "\n",
       "    .dataframe thead th {\n",
       "        text-align: right;\n",
       "    }\n",
       "</style>\n",
       "<table border=\"1\" class=\"dataframe\">\n",
       "  <thead>\n",
       "    <tr style=\"text-align: right;\">\n",
       "      <th></th>\n",
       "      <th>symbol</th>\n",
       "      <th>date</th>\n",
       "      <th>open</th>\n",
       "      <th>high</th>\n",
       "      <th>low</th>\n",
       "      <th>close</th>\n",
       "      <th>volume</th>\n",
       "    </tr>\n",
       "  </thead>\n",
       "  <tbody>\n",
       "    <tr>\n",
       "      <th>0</th>\n",
       "      <td>AAL</td>\n",
       "      <td>2014-01-02</td>\n",
       "      <td>25.0700</td>\n",
       "      <td>25.8200</td>\n",
       "      <td>25.0600</td>\n",
       "      <td>25.3600</td>\n",
       "      <td>8998943</td>\n",
       "    </tr>\n",
       "    <tr>\n",
       "      <th>1</th>\n",
       "      <td>AAPL</td>\n",
       "      <td>2014-01-02</td>\n",
       "      <td>79.3828</td>\n",
       "      <td>79.5756</td>\n",
       "      <td>78.8601</td>\n",
       "      <td>79.0185</td>\n",
       "      <td>58791957</td>\n",
       "    </tr>\n",
       "    <tr>\n",
       "      <th>2</th>\n",
       "      <td>AAP</td>\n",
       "      <td>2014-01-02</td>\n",
       "      <td>110.3600</td>\n",
       "      <td>111.8800</td>\n",
       "      <td>109.2900</td>\n",
       "      <td>109.7400</td>\n",
       "      <td>542711</td>\n",
       "    </tr>\n",
       "    <tr>\n",
       "      <th>3</th>\n",
       "      <td>ABBV</td>\n",
       "      <td>2014-01-02</td>\n",
       "      <td>52.1200</td>\n",
       "      <td>52.3300</td>\n",
       "      <td>51.5200</td>\n",
       "      <td>51.9800</td>\n",
       "      <td>4569061</td>\n",
       "    </tr>\n",
       "    <tr>\n",
       "      <th>4</th>\n",
       "      <td>ABC</td>\n",
       "      <td>2014-01-02</td>\n",
       "      <td>70.1100</td>\n",
       "      <td>70.2300</td>\n",
       "      <td>69.4800</td>\n",
       "      <td>69.8900</td>\n",
       "      <td>1148391</td>\n",
       "    </tr>\n",
       "    <tr>\n",
       "      <th>...</th>\n",
       "      <td>...</td>\n",
       "      <td>...</td>\n",
       "      <td>...</td>\n",
       "      <td>...</td>\n",
       "      <td>...</td>\n",
       "      <td>...</td>\n",
       "      <td>...</td>\n",
       "    </tr>\n",
       "    <tr>\n",
       "      <th>497467</th>\n",
       "      <td>XYL</td>\n",
       "      <td>2017-12-29</td>\n",
       "      <td>68.5300</td>\n",
       "      <td>68.8000</td>\n",
       "      <td>67.9200</td>\n",
       "      <td>68.2000</td>\n",
       "      <td>1046677</td>\n",
       "    </tr>\n",
       "    <tr>\n",
       "      <th>497468</th>\n",
       "      <td>YUM</td>\n",
       "      <td>2017-12-29</td>\n",
       "      <td>82.6400</td>\n",
       "      <td>82.7100</td>\n",
       "      <td>81.5900</td>\n",
       "      <td>81.6100</td>\n",
       "      <td>1347613</td>\n",
       "    </tr>\n",
       "    <tr>\n",
       "      <th>497469</th>\n",
       "      <td>ZBH</td>\n",
       "      <td>2017-12-29</td>\n",
       "      <td>121.7500</td>\n",
       "      <td>121.9500</td>\n",
       "      <td>120.6200</td>\n",
       "      <td>120.6700</td>\n",
       "      <td>1023624</td>\n",
       "    </tr>\n",
       "    <tr>\n",
       "      <th>497470</th>\n",
       "      <td>ZION</td>\n",
       "      <td>2017-12-29</td>\n",
       "      <td>51.2800</td>\n",
       "      <td>51.5500</td>\n",
       "      <td>50.8100</td>\n",
       "      <td>50.8300</td>\n",
       "      <td>1261916</td>\n",
       "    </tr>\n",
       "    <tr>\n",
       "      <th>497471</th>\n",
       "      <td>ZTS</td>\n",
       "      <td>2017-12-29</td>\n",
       "      <td>72.5500</td>\n",
       "      <td>72.7600</td>\n",
       "      <td>72.0400</td>\n",
       "      <td>72.0400</td>\n",
       "      <td>1704122</td>\n",
       "    </tr>\n",
       "  </tbody>\n",
       "</table>\n",
       "<p>497472 rows × 7 columns</p>\n",
       "</div>"
      ],
      "text/plain": [
       "       symbol        date      open      high       low     close    volume\n",
       "0         AAL  2014-01-02   25.0700   25.8200   25.0600   25.3600   8998943\n",
       "1        AAPL  2014-01-02   79.3828   79.5756   78.8601   79.0185  58791957\n",
       "2         AAP  2014-01-02  110.3600  111.8800  109.2900  109.7400    542711\n",
       "3        ABBV  2014-01-02   52.1200   52.3300   51.5200   51.9800   4569061\n",
       "4         ABC  2014-01-02   70.1100   70.2300   69.4800   69.8900   1148391\n",
       "...       ...         ...       ...       ...       ...       ...       ...\n",
       "497467    XYL  2017-12-29   68.5300   68.8000   67.9200   68.2000   1046677\n",
       "497468    YUM  2017-12-29   82.6400   82.7100   81.5900   81.6100   1347613\n",
       "497469    ZBH  2017-12-29  121.7500  121.9500  120.6200  120.6700   1023624\n",
       "497470   ZION  2017-12-29   51.2800   51.5500   50.8100   50.8300   1261916\n",
       "497471    ZTS  2017-12-29   72.5500   72.7600   72.0400   72.0400   1704122\n",
       "\n",
       "[497472 rows x 7 columns]"
      ]
     },
     "execution_count": 7,
     "metadata": {},
     "output_type": "execute_result"
    }
   ],
   "source": [
    "data.fillna(10)"
   ]
  },
  {
   "cell_type": "code",
   "execution_count": 8,
   "id": "d3dbb2fa",
   "metadata": {},
   "outputs": [
    {
     "name": "stdout",
     "output_type": "stream",
     "text": [
      "<class 'pandas.core.frame.DataFrame'>\n",
      "RangeIndex: 497472 entries, 0 to 497471\n",
      "Data columns (total 7 columns):\n",
      " #   Column  Non-Null Count   Dtype  \n",
      "---  ------  --------------   -----  \n",
      " 0   symbol  497472 non-null  object \n",
      " 1   date    497472 non-null  object \n",
      " 2   open    497461 non-null  float64\n",
      " 3   high    497464 non-null  float64\n",
      " 4   low     497464 non-null  float64\n",
      " 5   close   497472 non-null  float64\n",
      " 6   volume  497472 non-null  int64  \n",
      "dtypes: float64(4), int64(1), object(2)\n",
      "memory usage: 26.6+ MB\n"
     ]
    }
   ],
   "source": [
    "data.info()"
   ]
  },
  {
   "cell_type": "code",
   "execution_count": 9,
   "id": "449bacba",
   "metadata": {},
   "outputs": [],
   "source": [
    "data[\"open\"] = data[\"open\"].fillna(data[\"open\"].median())"
   ]
  },
  {
   "cell_type": "code",
   "execution_count": 10,
   "id": "91cca471",
   "metadata": {},
   "outputs": [
    {
     "data": {
      "text/plain": [
       "symbol    0\n",
       "date      0\n",
       "open      0\n",
       "high      8\n",
       "low       8\n",
       "close     0\n",
       "volume    0\n",
       "dtype: int64"
      ]
     },
     "execution_count": 10,
     "metadata": {},
     "output_type": "execute_result"
    }
   ],
   "source": [
    "data.isnull().sum()"
   ]
  },
  {
   "cell_type": "code",
   "execution_count": 11,
   "id": "41b85b87",
   "metadata": {},
   "outputs": [],
   "source": [
    "data[\"high\"] = data[\"high\"].fillna(data[\"high\"].mean())"
   ]
  },
  {
   "cell_type": "code",
   "execution_count": 12,
   "id": "02295f2b",
   "metadata": {},
   "outputs": [],
   "source": [
    "data[\"low\"] = data[\"low\"].fillna(data[\"low\"].mean())"
   ]
  },
  {
   "cell_type": "code",
   "execution_count": 13,
   "id": "420b8fef",
   "metadata": {},
   "outputs": [],
   "source": [
    "data[\"low\"] = data[\"low\"].fillna(data[\"low\"].mode()[0])\n"
   ]
  }
 ],
 "metadata": {
  "kernelspec": {
   "display_name": ".venv",
   "language": "python",
   "name": "python3"
  },
  "language_info": {
   "codemirror_mode": {
    "name": "ipython",
    "version": 3
   },
   "file_extension": ".py",
   "mimetype": "text/x-python",
   "name": "python",
   "nbconvert_exporter": "python",
   "pygments_lexer": "ipython3",
   "version": "3.12.4"
  }
 },
 "nbformat": 4,
 "nbformat_minor": 5
}
